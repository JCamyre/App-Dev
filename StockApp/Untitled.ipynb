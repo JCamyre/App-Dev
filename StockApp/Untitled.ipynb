{
 "cells": [
  {
   "cell_type": "code",
   "execution_count": 3,
   "id": "substantial-burning",
   "metadata": {},
   "outputs": [],
   "source": [
    "from dotenv import load_dotenv\n",
    "import webbrowser\n",
    "import tweepy\n",
    "import time\n",
    "import os"
   ]
  },
  {
   "cell_type": "code",
   "execution_count": 4,
   "id": "unable-values",
   "metadata": {},
   "outputs": [],
   "source": [
    "load_dotenv()\n",
    "consumer_key = os.getenv('API_KEY')\n",
    "consumer_secret = os.getenv('API_SECRET_KEY')\n"
   ]
  },
  {
   "cell_type": "code",
   "execution_count": 6,
   "id": "attached-latest",
   "metadata": {},
   "outputs": [],
   "source": []
  },
  {
   "cell_type": "code",
   "execution_count": 10,
   "id": "successful-matter",
   "metadata": {},
   "outputs": [],
   "source": [
    "auth = tweepy.AppAuthHandler(consumer_key, consumer_secret)"
   ]
  },
  {
   "cell_type": "code",
   "execution_count": 14,
   "id": "institutional-yeast",
   "metadata": {},
   "outputs": [
    {
     "name": "stdout",
     "output_type": "stream",
     "text": [
      "$MOTV MOTV SPAC – Next-Gen Visionary Fintech Space\n",
      "\n",
      "$CCIV $RIOT $MARA $BTC $ETH $RAAC $CONX https://t.co/HE0jY9T392\n",
      "RT @khrissy8: $ZOM $SNDL $GME $TLRY $APHA $TSLA $PLTR $AMC $BB $CRSP $AAPL $DIS $HYLN $OCGN $SPCE $AMD $MVIS $NIO $ZOM $WISH $NOK $AMZN $NV…\n",
      "RT @SpacBobby: Hey r/wallstreetbets.....ever heard of $CCIV? 😜\n",
      "@GuyFromAustin @FutureTesla1 @patrickzeh @thetradingchick $CCIV yup.. once recovered I'm out.. anyways wall street… https://t.co/Mvx2OPVl3c\n",
      "I see some miscommunication regarding how much PIPE investors paid for $CCIV. People are viewing  this as a negativ… https://t.co/Bb2Zwv5AMP\n",
      "@yatesinvesting My stop loss triggered on $CCIV at 30 (in at $12). I'm ok with that!\n",
      "RT @GusPizza12: @Schuldensuehner Add $CCIV to that list big short interest\n",
      "@chethi_kumar Still feeling good about $NKLA... I meant $CCIV?\n",
      "@Schuldensuehner Add $CCIV to that list big short interest\n",
      "RT @RyanRozbiani: $CCIV - I'm not sure when the changes were done but damn https://t.co/ItsVbMHvM9\n"
     ]
    }
   ],
   "source": [
    "api = tweepy.API(auth)\n",
    "for tweet in tweepy.Cursor(api.search, q='$CCIV').items(10):\n",
    "    print(tweet.text)"
   ]
  },
  {
   "cell_type": "code",
   "execution_count": null,
   "id": "double-swing",
   "metadata": {},
   "outputs": [],
   "source": []
  }
 ],
 "metadata": {
  "kernelspec": {
   "display_name": "Python 3",
   "language": "python",
   "name": "python3"
  },
  "language_info": {
   "codemirror_mode": {
    "name": "ipython",
    "version": 3
   },
   "file_extension": ".py",
   "mimetype": "text/x-python",
   "name": "python",
   "nbconvert_exporter": "python",
   "pygments_lexer": "ipython3",
   "version": "3.7.9"
  }
 },
 "nbformat": 4,
 "nbformat_minor": 5
}
