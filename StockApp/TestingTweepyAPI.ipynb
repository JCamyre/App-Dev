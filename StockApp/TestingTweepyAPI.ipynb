{
 "cells": [
  {
   "cell_type": "code",
   "execution_count": 1,
   "id": "substantial-burning",
   "metadata": {},
   "outputs": [],
   "source": [
    "from dotenv import load_dotenv\n",
    "import webbrowser\n",
    "import tweepy\n",
    "import time\n",
    "import os"
   ]
  },
  {
   "cell_type": "code",
   "execution_count": 2,
   "id": "unable-values",
   "metadata": {},
   "outputs": [],
   "source": [
    "load_dotenv()\n",
    "consumer_key = os.getenv('API_KEY')\n",
    "consumer_secret = os.getenv('API_SECRET_KEY')\n"
   ]
  },
  {
   "cell_type": "code",
   "execution_count": null,
   "id": "attached-latest",
   "metadata": {},
   "outputs": [],
   "source": []
  },
  {
   "cell_type": "code",
   "execution_count": 3,
   "id": "successful-matter",
   "metadata": {},
   "outputs": [],
   "source": [
    "auth = tweepy.AppAuthHandler(consumer_key, consumer_secret)"
   ]
  },
  {
   "cell_type": "code",
   "execution_count": 10,
   "id": "institutional-yeast",
   "metadata": {},
   "outputs": [
    {
     "name": "stdout",
     "output_type": "stream",
     "text": [
      "0 $pltr after hrs gains 9 cents = LOSER'S STOCK ....\n",
      "let that sink in....\n",
      "this stock has been losing price thru short… https://t.co/3S8JyCrRcF ArcticIceBerry 0 0 2021-02-24 23:45:29\n",
      "1 @Jonatha43549212 @_jeessusss There is no reason for $PLTR not to be trading in the 30-32 range right now. I'm in sh… https://t.co/XgmLN8tFSp vernj76 0 0 2021-02-24 23:45:08\n",
      "2 #WSNWATCHLIST - WEEK OF 2.22.21 - DAY 3\n",
      "\n",
      "#WALLSTREETBETS TOP 3 ⬆️ 2.48%\n",
      "$GME $PLTR $TSLA\n",
      "\n",
      "ALL PICKERS TOP 3 🔻 40.02… https://t.co/NrKuSOXG8T WallStreetNext 0 0 2021-02-24 23:44:35\n",
      "3 $PLTR APR 16 $30c - watch for the Macd to tighten up and curl, should see a breakout very soon imo unless $GME reta… https://t.co/3DxCtuccBT MessiTrades 0 0 2021-02-24 23:44:26\n",
      "4 @cperruna $SQ $NVDA $TDOC $PLTR $MU biswaphuyal 0 0 2021-02-24 23:43:29\n",
      "5 We’re entering the new age.. $PLTR is the king of data. \n",
      "\n",
      "Data is the new oil. Our society will function off this t… https://t.co/XhX1OnTU1q ZazaInvestments 0 1 2021-02-24 23:43:02\n",
      "6 Holy second time that’s happened and I found the phone again; $trit to 50$ and $pltr to 100$ for sure now daddistocks 0 2 2021-02-24 23:42:41\n",
      "7 $AMC 135,000 shares blocking $11 just got wiped out like tic tacs. WOWW! BLUE WHALES🐳🐋💦💦\n",
      "\n",
      "$uvxy $prph $rcl $nkla… https://t.co/rkbhXXj0Dq aaaamhim 0 4 2021-02-24 23:41:38\n",
      "8 My 5:\n",
      "\n",
      "1. $TSLA\n",
      "2. $AMZN\n",
      "3. $PLTR\n",
      "4. $SQ\n",
      "5. $TDOC \n",
      "\n",
      "Don’t have a position in $SQ or $TDOC. But I’m watching that Te… https://t.co/WYCo1oK2ss ZazaInvestments 0 0 2021-02-24 23:41:28\n",
      "9 Another unreal day at https://t.co/4DOgEU561G\n",
      "\n",
      "7 #daytrading 5 wins\n",
      "\n",
      "$SPX +182% +75%\n",
      "$AAL +100%\n",
      "$NVDA +100%\n",
      "$SNAP +… https://t.co/Dbo9MHal57 MoneyPigTrading 0 0 2021-02-24 23:41:20\n"
     ]
    }
   ],
   "source": [
    "api = tweepy.API(auth, wait_on_rate_limit=True)\n",
    "for i, tweet in enumerate(tweepy.Cursor(api.search, q='$PLTR', count=10).items(10)):\n",
    "    print(i, tweet.text, tweet.author.screen_name, tweet.retweet_count, tweet.favorite_count, tweet.created_at)"
   ]
  },
  {
   "cell_type": "code",
   "execution_count": null,
   "id": "double-swing",
   "metadata": {},
   "outputs": [],
   "source": []
  }
 ],
 "metadata": {
  "kernelspec": {
   "display_name": "Python 3",
   "language": "python",
   "name": "python3"
  },
  "language_info": {
   "codemirror_mode": {
    "name": "ipython",
    "version": 3
   },
   "file_extension": ".py",
   "mimetype": "text/x-python",
   "name": "python",
   "nbconvert_exporter": "python",
   "pygments_lexer": "ipython3",
   "version": "3.7.9"
  }
 },
 "nbformat": 4,
 "nbformat_minor": 5
}
